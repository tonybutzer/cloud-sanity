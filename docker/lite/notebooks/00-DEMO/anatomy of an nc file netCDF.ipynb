{
 "cells": [
  {
   "cell_type": "code",
   "execution_count": 2,
   "metadata": {},
   "outputs": [
    {
     "name": "stdout",
     "output_type": "stream",
     "text": [
      "MOD09Q1.006_250m_aid0001.nc  lpdaac  opt\r\n"
     ]
    }
   ],
   "source": [
    "!ls /data"
   ]
  },
  {
   "cell_type": "code",
   "execution_count": 3,
   "metadata": {},
   "outputs": [
    {
     "name": "stdout",
     "output_type": "stream",
     "text": [
      "Driver: netCDF/Network Common Data Format\r\n",
      "Files: /data/MOD09Q1.006_250m_aid0001.nc\r\n",
      "Size is 512, 512\r\n",
      "Coordinate System is `'\r\n",
      "Metadata:\r\n",
      "  NC_GLOBAL#Conventions=CF-1.6\r\n",
      "  NC_GLOBAL#history=See README.txt\r\n",
      "  NC_GLOBAL#institution=Land Processes Distributed Active Archive Center (LP DAAC)\r\n",
      "  NC_GLOBAL#references=See README.txt\r\n",
      "  NC_GLOBAL#source=AppEEARS v2.17\r\n",
      "  NC_GLOBAL#title=MOD09Q1.006 for aid0001\r\n",
      "Subdatasets:\r\n",
      "  SUBDATASET_1_NAME=NETCDF:\"/data/MOD09Q1.006_250m_aid0001.nc\":sur_refl_b01\r\n",
      "  SUBDATASET_1_DESC=[181x85x179] sur_refl_b01 (16-bit integer)\r\n",
      "  SUBDATASET_2_NAME=NETCDF:\"/data/MOD09Q1.006_250m_aid0001.nc\":sur_refl_b02\r\n",
      "  SUBDATASET_2_DESC=[181x85x179] sur_refl_b02 (16-bit integer)\r\n",
      "  SUBDATASET_3_NAME=NETCDF:\"/data/MOD09Q1.006_250m_aid0001.nc\":sur_refl_qc_250m\r\n",
      "  SUBDATASET_3_DESC=[181x85x179] sur_refl_qc_250m (32-bit integer)\r\n",
      "  SUBDATASET_4_NAME=NETCDF:\"/data/MOD09Q1.006_250m_aid0001.nc\":sur_refl_state_250m\r\n",
      "  SUBDATASET_4_DESC=[181x85x179] sur_refl_state_250m (32-bit integer)\r\n",
      "Corner Coordinates:\r\n",
      "Upper Left  (    0.0,    0.0)\r\n",
      "Lower Left  (    0.0,  512.0)\r\n",
      "Upper Right (  512.0,    0.0)\r\n",
      "Lower Right (  512.0,  512.0)\r\n",
      "Center      (  256.0,  256.0)\r\n"
     ]
    }
   ],
   "source": [
    "!gdalinfo /data/MOD09Q1.006_250m_aid0001.nc"
   ]
  },
  {
   "cell_type": "code",
   "execution_count": null,
   "metadata": {},
   "outputs": [],
   "source": []
  }
 ],
 "metadata": {
  "kernelspec": {
   "display_name": "Python 3",
   "language": "python",
   "name": "python3"
  },
  "language_info": {
   "codemirror_mode": {
    "name": "ipython",
    "version": 3
   },
   "file_extension": ".py",
   "mimetype": "text/x-python",
   "name": "python",
   "nbconvert_exporter": "python",
   "pygments_lexer": "ipython3",
   "version": "3.6.7"
  }
 },
 "nbformat": 4,
 "nbformat_minor": 2
}
